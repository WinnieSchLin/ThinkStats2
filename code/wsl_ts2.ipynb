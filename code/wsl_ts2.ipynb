{
 "cells": [
  {
   "cell_type": "code",
   "execution_count": 1,
   "id": "70b7a770",
   "metadata": {},
   "outputs": [
    {
     "name": "stdout",
     "output_type": "stream",
     "text": [
      "[Errno 2] No such file or directory: 'code'\n",
      "/Users/winnie/Documents/GitHub/ThinkStats2/code\n"
     ]
    }
   ],
   "source": [
    "cd code"
   ]
  },
  {
   "cell_type": "code",
   "execution_count": 2,
   "id": "2e7c5c0e",
   "metadata": {},
   "outputs": [
    {
     "name": "stdout",
     "output_type": "stream",
     "text": [
      "(13593, 244)\n",
      "All tests passed.\n"
     ]
    }
   ],
   "source": [
    "%run nsfg.py"
   ]
  },
  {
   "cell_type": "code",
   "execution_count": 30,
   "id": "d0173b9a",
   "metadata": {},
   "outputs": [],
   "source": [
    "caseid = 10228"
   ]
  },
  {
   "cell_type": "code",
   "execution_count": 31,
   "id": "76cab961",
   "metadata": {},
   "outputs": [],
   "source": [
    "preg_map = nsfg.MakePregMap(df)"
   ]
  },
  {
   "cell_type": "code",
   "execution_count": 32,
   "id": "538545b2",
   "metadata": {},
   "outputs": [],
   "source": [
    "indices = preg_map[caseid]"
   ]
  },
  {
   "cell_type": "code",
   "execution_count": 33,
   "id": "23da5ee8",
   "metadata": {},
   "outputs": [
    {
     "data": {
      "text/plain": [
       "array([2, 2, 2])"
      ]
     },
     "execution_count": 33,
     "metadata": {},
     "output_type": "execute_result"
    }
   ],
   "source": [
    "df.outcome[indices].values"
   ]
  },
  {
   "cell_type": "code",
   "execution_count": null,
   "id": "43caa441",
   "metadata": {},
   "outputs": [],
   "source": []
  }
 ],
 "metadata": {
  "kernelspec": {
   "display_name": "Python 3",
   "language": "python",
   "name": "python3"
  },
  "language_info": {
   "codemirror_mode": {
    "name": "ipython",
    "version": 3
   },
   "file_extension": ".py",
   "mimetype": "text/x-python",
   "name": "python",
   "nbconvert_exporter": "python",
   "pygments_lexer": "ipython3",
   "version": "3.8.8"
  }
 },
 "nbformat": 4,
 "nbformat_minor": 5
}
